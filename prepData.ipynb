{
 "cells": [
  {
   "cell_type": "markdown",
   "metadata": {},
   "source": [
    "# Create Data"
   ]
  },
  {
   "cell_type": "code",
   "execution_count": 1,
   "metadata": {},
   "outputs": [],
   "source": [
    "import pandas as pd\n",
    "import numpy as np\n",
    "import multiprocessing as mp\n",
    "import os\n",
    "\n",
    "\n",
    "dataDirs = [\"data/csv/atmc10\", \"data/parq/atmc10\",\n",
    "            \"data/csv/atmc50\", \"data/parq/atmc50\"]\n",
    "for dataDir in dataDirs:\n",
    "    if not os.path.exists(dataDir):\n",
    "        os.makedirs(dataDir)\n",
    "\n",
    "def parallelize(fun, vec, pool):\n",
    "    with mp.Pool(pool) as p:\n",
    "        res = p.map(fun, vec)\n",
    "    return(res)\n",
    "\n",
    "def genData10(x):\n",
    "    df = pd.DataFrame({\"key\": x[1],\n",
    "                       \"values\": np.arange(x[0]*N, (x[0]+1)*N)})\n",
    "    fldr1 = \"data/csv/atmc10\"\n",
    "    fldr2 = \"data/parq/atmc10\"\n",
    "    fn =\"part{:05}\".format(x[0]+1) \n",
    "    df.to_csv(os.path.join(fldr1, fn)+\".csv\", index=False)\n",
    "    df.to_parquet(os.path.join(fldr2,fn)+\".parq\")\n",
    "    \n",
    "    \n",
    "def genData50(x):\n",
    "    df = pd.DataFrame({\"key\": x[1],\n",
    "                       \"values\": np.arange(x[0]*N, (x[0]+1)*N)})\n",
    "    fldr1 = \"data/csv/atmc50\"\n",
    "    fldr2 = \"data/parq/atmc50\"\n",
    "    fn =\"part{:05}\".format(x[0]+1) \n",
    "    df.to_csv(os.path.join(fldr1, fn)+\".csv\", index=False)\n",
    "    df.to_parquet(os.path.join(fldr2,fn)+\".parq\")"
   ]
  },
  {
   "cell_type": "code",
   "execution_count": 2,
   "metadata": {},
   "outputs": [],
   "source": [
    "N = 1000\n",
    "ncpu =  os.cpu_count()"
   ]
  },
  {
   "cell_type": "code",
   "execution_count": 3,
   "metadata": {},
   "outputs": [
    {
     "name": "stdout",
     "output_type": "stream",
     "text": [
      "CPU times: user 44.7 ms, sys: 113 ms, total: 158 ms\n",
      "Wall time: 8.76 s\n"
     ]
    }
   ],
   "source": [
    "%%time\n",
    "lst = [[i,\"A{:05}\".format(i+1)] for i in range(int(1e4))]\n",
    "out = parallelize(genData10, lst, ncpu)"
   ]
  },
  {
   "cell_type": "code",
   "execution_count": 4,
   "metadata": {},
   "outputs": [
    {
     "name": "stdout",
     "output_type": "stream",
     "text": [
      "CPU times: user 160 ms, sys: 96.2 ms, total: 257 ms\n",
      "Wall time: 40 s\n"
     ]
    }
   ],
   "source": [
    "%%time\n",
    "lst = [[i,\"A{:05}\".format(i+1)] for i in range(int(5e4))]\n",
    "out = parallelize(genData50, lst, ncpu)"
   ]
  },
  {
   "cell_type": "markdown",
   "metadata": {},
   "source": [
    "# In One file"
   ]
  },
  {
   "cell_type": "code",
   "execution_count": 1,
   "metadata": {},
   "outputs": [],
   "source": [
    "import pandas as pd\n",
    "import dask.dataframe as dd\n",
    "from dask.distributed import Client, LocalCluster"
   ]
  },
  {
   "cell_type": "code",
   "execution_count": 2,
   "metadata": {},
   "outputs": [
    {
     "data": {
      "text/html": [
       "<table style=\"border: 2px solid white;\">\n",
       "<tr>\n",
       "<td style=\"vertical-align: top; border: 0px solid white\">\n",
       "<h3>Client</h3>\n",
       "<ul>\n",
       "  <li><b>Scheduler: </b>tcp://127.0.0.1:33203\n",
       "  <li><b>Dashboard: </b><a href='http://127.0.0.1:8787/status' target='_blank'>http://127.0.0.1:8787/status</a>\n",
       "</ul>\n",
       "</td>\n",
       "<td style=\"vertical-align: top; border: 0px solid white\">\n",
       "<h3>Cluster</h3>\n",
       "<ul>\n",
       "  <li><b>Workers: </b>16</li>\n",
       "  <li><b>Cores: </b>16</li>\n",
       "  <li><b>Memory: </b>63.32 GB</li>\n",
       "</ul>\n",
       "</td>\n",
       "</tr>\n",
       "</table>"
      ],
      "text/plain": [
       "<Client: scheduler='tcp://127.0.0.1:33203' processes=16 cores=16>"
      ]
     },
     "execution_count": 2,
     "metadata": {},
     "output_type": "execute_result"
    }
   ],
   "source": [
    "cluster = LocalCluster()\n",
    "client = Client(cluster)\n",
    "client"
   ]
  },
  {
   "cell_type": "code",
   "execution_count": 3,
   "metadata": {},
   "outputs": [],
   "source": [
    "fldrs = [\"data/csv/atmc10\", \"data/parq/atmc10\",\n",
    "         \"data/csv/atmc50\", \"data/parq/atmc50\"]"
   ]
  },
  {
   "cell_type": "markdown",
   "metadata": {},
   "source": [
    "## 10M"
   ]
  },
  {
   "cell_type": "code",
   "execution_count": 7,
   "metadata": {},
   "outputs": [
    {
     "name": "stdout",
     "output_type": "stream",
     "text": [
      "CPU times: user 3.4 s, sys: 308 ms, total: 3.71 s\n",
      "Wall time: 3.72 s\n"
     ]
    }
   ],
   "source": [
    "%%time\n",
    "df = dd.read_parquet(fldrs[1]+\"/*\")"
   ]
  },
  {
   "cell_type": "code",
   "execution_count": 8,
   "metadata": {},
   "outputs": [
    {
     "name": "stdout",
     "output_type": "stream",
     "text": [
      "CPU times: user 1min 17s, sys: 41.1 s, total: 1min 58s\n",
      "Wall time: 1min 2s\n"
     ]
    }
   ],
   "source": [
    "%%time\n",
    "# to pandas\n",
    "df = df.compute()"
   ]
  },
  {
   "cell_type": "code",
   "execution_count": 9,
   "metadata": {},
   "outputs": [
    {
     "name": "stdout",
     "output_type": "stream",
     "text": [
      "CPU times: user 22.4 s, sys: 879 ms, total: 23.2 s\n",
      "Wall time: 21 s\n"
     ]
    }
   ],
   "source": [
    "%%time\n",
    "df.to_parquet(\"data/file10SRTD.parq\")\n",
    "df.to_csv(\"data/file10SRTD.csv\", index=False)"
   ]
  },
  {
   "cell_type": "code",
   "execution_count": 10,
   "metadata": {},
   "outputs": [
    {
     "name": "stdout",
     "output_type": "stream",
     "text": [
      "CPU times: user 9.64 s, sys: 0 ns, total: 9.64 s\n",
      "Wall time: 7.67 s\n"
     ]
    }
   ],
   "source": [
    "%%time\n",
    "df = df.sample(frac=1)\\\n",
    "       .reset_index(drop=True)"
   ]
  },
  {
   "cell_type": "code",
   "execution_count": 11,
   "metadata": {},
   "outputs": [
    {
     "name": "stdout",
     "output_type": "stream",
     "text": [
      "CPU times: user 32.6 s, sys: 0 ns, total: 32.6 s\n",
      "Wall time: 30.8 s\n"
     ]
    }
   ],
   "source": [
    "%%time\n",
    "df.to_parquet(\"data/file10SHFFL.parq\")\n",
    "df.to_csv(\"data/file10SHFFL.csv\", index=False)"
   ]
  },
  {
   "cell_type": "markdown",
   "metadata": {},
   "source": [
    "## 50M"
   ]
  },
  {
   "cell_type": "code",
   "execution_count": 4,
   "metadata": {},
   "outputs": [
    {
     "data": {
      "text/html": [
       "<table style=\"border: 2px solid white;\">\n",
       "<tr>\n",
       "<td style=\"vertical-align: top; border: 0px solid white\">\n",
       "<h3>Client</h3>\n",
       "<ul>\n",
       "  <li><b>Scheduler: </b>tcp://127.0.0.1:33203\n",
       "  <li><b>Dashboard: </b><a href='http://127.0.0.1:8787/status' target='_blank'>http://127.0.0.1:8787/status</a>\n",
       "</ul>\n",
       "</td>\n",
       "<td style=\"vertical-align: top; border: 0px solid white\">\n",
       "<h3>Cluster</h3>\n",
       "<ul>\n",
       "  <li><b>Workers: </b>16</li>\n",
       "  <li><b>Cores: </b>16</li>\n",
       "  <li><b>Memory: </b>63.32 GB</li>\n",
       "</ul>\n",
       "</td>\n",
       "</tr>\n",
       "</table>"
      ],
      "text/plain": [
       "<Client: scheduler='tcp://127.0.0.1:33203' processes=16 cores=16>"
      ]
     },
     "execution_count": 4,
     "metadata": {},
     "output_type": "execute_result"
    }
   ],
   "source": [
    "client.restart()"
   ]
  },
  {
   "cell_type": "code",
   "execution_count": 5,
   "metadata": {},
   "outputs": [
    {
     "name": "stdout",
     "output_type": "stream",
     "text": [
      "CPU times: user 21.8 s, sys: 3.57 s, total: 25.3 s\n",
      "Wall time: 22.7 s\n"
     ]
    }
   ],
   "source": [
    "%%time\n",
    "df = dd.read_parquet(fldrs[3]+\"/*\")"
   ]
  },
  {
   "cell_type": "code",
   "execution_count": 6,
   "metadata": {},
   "outputs": [
    {
     "name": "stdout",
     "output_type": "stream",
     "text": [
      "CPU times: user 1min 42s, sys: 17.3 s, total: 2min\n",
      "Wall time: 1min 53s\n"
     ]
    }
   ],
   "source": [
    "%%time\n",
    "# to pandas\n",
    "df = df.compute()"
   ]
  },
  {
   "cell_type": "code",
   "execution_count": 7,
   "metadata": {},
   "outputs": [
    {
     "name": "stdout",
     "output_type": "stream",
     "text": [
      "CPU times: user 1min 55s, sys: 11.1 s, total: 2min 6s\n",
      "Wall time: 1min 53s\n"
     ]
    }
   ],
   "source": [
    "%%time\n",
    "df.to_parquet(\"data/file50SRTD.parq\")\n",
    "df.to_csv(\"data/file50SRTD.csv\", index=False)"
   ]
  },
  {
   "cell_type": "code",
   "execution_count": 8,
   "metadata": {},
   "outputs": [
    {
     "name": "stdout",
     "output_type": "stream",
     "text": [
      "CPU times: user 47.4 s, sys: 2.1 s, total: 49.5 s\n",
      "Wall time: 46.8 s\n"
     ]
    }
   ],
   "source": [
    "%%time\n",
    "df = df.sample(frac=1)\\\n",
    "       .reset_index(drop=True)"
   ]
  },
  {
   "cell_type": "code",
   "execution_count": 9,
   "metadata": {},
   "outputs": [
    {
     "name": "stdout",
     "output_type": "stream",
     "text": [
      "CPU times: user 3min 3s, sys: 7.46 s, total: 3min 11s\n",
      "Wall time: 2min 59s\n"
     ]
    }
   ],
   "source": [
    "%%time\n",
    "df.to_parquet(\"data/file50SHFFL.parq\")\n",
    "df.to_csv(\"data/file50SHFFL.csv\", index=False)"
   ]
  },
  {
   "cell_type": "markdown",
   "metadata": {},
   "source": [
    "# Chunks"
   ]
  },
  {
   "cell_type": "code",
   "execution_count": 1,
   "metadata": {},
   "outputs": [],
   "source": [
    "import pandas as pd\n",
    "import os"
   ]
  },
  {
   "cell_type": "code",
   "execution_count": 2,
   "metadata": {},
   "outputs": [],
   "source": [
    "dataDirs = [\"data/csv/split10\", \"data/parq/split10\",\n",
    "            \"data/csv/split50\", \"data/parq/split50\"]\n",
    "\n",
    "for dataDir in dataDirs:\n",
    "    if not os.path.exists(dataDir):\n",
    "        os.makedirs(dataDir)"
   ]
  },
  {
   "cell_type": "code",
   "execution_count": 3,
   "metadata": {},
   "outputs": [
    {
     "name": "stdout",
     "output_type": "stream",
     "text": [
      "CPU times: user 47.9 s, sys: 1.94 s, total: 49.9 s\n",
      "Wall time: 24.8 s\n"
     ]
    }
   ],
   "source": [
    "%%time\n",
    "df = pd.read_csv(\"data/file10SRTD.csv\")\n",
    "df = df.reset_index(drop=True)\n",
    "chunks = 8\n",
    "N = int(len(df)/chunks)\n",
    "for i in range(chunks):\n",
    "    out = df[i*N:(i+1)*N-1]\n",
    "    out = out.reset_index(drop=True)\n",
    "    fn1 = os.path.join(dataDirs[0], \"part{:02}.csv\".format(i+1))\n",
    "    fn2 = os.path.join(dataDirs[1], \"part{:02}.parq\".format(i+1))\n",
    "    out.to_csv(fn1, index=False)\n",
    "    out.to_parquet(fn2)"
   ]
  },
  {
   "cell_type": "code",
   "execution_count": 4,
   "metadata": {},
   "outputs": [
    {
     "name": "stdout",
     "output_type": "stream",
     "text": [
      "CPU times: user 2min 25s, sys: 9.36 s, total: 2min 34s\n",
      "Wall time: 2min 5s\n"
     ]
    }
   ],
   "source": [
    "%%time\n",
    "df = pd.read_csv(\"data/file50SRTD.csv\")\n",
    "df = df.reset_index(drop=True)\n",
    "chunks = 8\n",
    "N = int(len(df)/chunks)\n",
    "for i in range(chunks):\n",
    "    out = df[i*N:(i+1)*N-1]\n",
    "    out = out.reset_index(drop=True)\n",
    "    fn1 = os.path.join(dataDirs[2], \"part{:02}.csv\".format(i+1))\n",
    "    fn2 = os.path.join(dataDirs[3], \"part{:02}.parq\".format(i+1))\n",
    "    out.to_csv(fn1, index=False)\n",
    "    out.to_parquet(fn2)"
   ]
  },
  {
   "cell_type": "code",
   "execution_count": null,
   "metadata": {},
   "outputs": [],
   "source": []
  }
 ],
 "metadata": {
  "kernelspec": {
   "display_name": "talkCDA",
   "language": "python",
   "name": "talk_cda"
  },
  "language_info": {
   "codemirror_mode": {
    "name": "ipython",
    "version": 3
   },
   "file_extension": ".py",
   "mimetype": "text/x-python",
   "name": "python",
   "nbconvert_exporter": "python",
   "pygments_lexer": "ipython3",
   "version": "3.6.5"
  }
 },
 "nbformat": 4,
 "nbformat_minor": 2
}
