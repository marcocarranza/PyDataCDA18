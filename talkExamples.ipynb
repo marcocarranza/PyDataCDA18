{
 "cells": [
  {
   "cell_type": "markdown",
   "metadata": {},
   "source": [
    "# MultiProcessing"
   ]
  },
  {
   "cell_type": "code",
   "execution_count": 1,
   "metadata": {},
   "outputs": [],
   "source": [
    "import pandas as pd\n",
    "import numpy as np\n",
    "import multiprocessing as mp\n",
    "import os\n",
    "import gc"
   ]
  },
  {
   "cell_type": "code",
   "execution_count": 2,
   "metadata": {},
   "outputs": [],
   "source": [
    "fldrs = [\"data/csv/atmc10\", \"data/parq/atmc10\",\n",
    "            \"data/csv/atmc50\", \"data/parq/atmc50\"]"
   ]
  },
  {
   "cell_type": "code",
   "execution_count": 3,
   "metadata": {},
   "outputs": [],
   "source": [
    "def parallelize(fun, vec, pool):\n",
    "    with mp.Pool(pool) as p:\n",
    "        res = p.map(fun, vec)\n",
    "    return(res)\n",
    "\n",
    "\n",
    "def funCSV(x):\n",
    "    df = pd.read_csv(x)\n",
    "    return [df[\"key\"].unique()[0], df[\"values\"].mean()]\n",
    "\n",
    "\n",
    "def funPARQ(x):\n",
    "    df = pd.read_parquet(x)\n",
    "    return [df[\"key\"].unique()[0], df[\"values\"].mean()]\n",
    "\n",
    "ncpu = os.cpu_count()"
   ]
  },
  {
   "cell_type": "markdown",
   "metadata": {},
   "source": [
    "## csv"
   ]
  },
  {
   "cell_type": "code",
   "execution_count": 4,
   "metadata": {},
   "outputs": [
    {
     "name": "stdout",
     "output_type": "stream",
     "text": [
      "CPU times: user 74.6 ms, sys: 25.3 ms, total: 99.9 ms\n",
      "Wall time: 12.6 s\n"
     ]
    }
   ],
   "source": [
    "%%time\n",
    "fldr = fldrs[0]\n",
    "files = [os.path.join(fldr, x) for x in os.listdir(fldr)]\n",
    "out = parallelize(funCSV, files, ncpu)\n",
    "out = pd.DataFrame(out, columns=[\"key\",\"values\"])\n",
    "out[\"key\"] =  out[\"key\"].astype(str)\n",
    "out = out.sort_values(\"key\").set_index(\"key\")"
   ]
  },
  {
   "cell_type": "code",
   "execution_count": 4,
   "metadata": {},
   "outputs": [
    {
     "name": "stdout",
     "output_type": "stream",
     "text": [
      "CPU times: user 316 ms, sys: 87.7 ms, total: 404 ms\n",
      "Wall time: 1min 1s\n"
     ]
    }
   ],
   "source": [
    "%%time\n",
    "fldr = fldrs[2]\n",
    "files = [os.path.join(fldr, x) for x in os.listdir(fldr)]\n",
    "out = parallelize(funCSV, files, ncpu)\n",
    "out = pd.DataFrame(out, columns=[\"key\",\"values\"])\n",
    "out[\"key\"] = out[\"key\"].astype(str)\n",
    "out = out.sort_values(\"key\").set_index(\"key\")"
   ]
  },
  {
   "cell_type": "markdown",
   "metadata": {},
   "source": [
    "## parquet"
   ]
  },
  {
   "cell_type": "code",
   "execution_count": 4,
   "metadata": {},
   "outputs": [
    {
     "name": "stdout",
     "output_type": "stream",
     "text": [
      "CPU times: user 80.6 ms, sys: 40.7 ms, total: 121 ms\n",
      "Wall time: 15 s\n"
     ]
    }
   ],
   "source": [
    "%%time\n",
    "fldr = fldrs[1]\n",
    "files = [os.path.join(fldr, x) for x in os.listdir(fldr)]\n",
    "out = parallelize(funPARQ, files, ncpu)\n",
    "out = pd.DataFrame(out, columns=[\"key\",\"values\"])\n",
    "out[\"key\"] =  out[\"key\"].astype(str)\n",
    "out = out.sort_values(\"key\").set_index(\"key\")"
   ]
  },
  {
   "cell_type": "code",
   "execution_count": 4,
   "metadata": {},
   "outputs": [
    {
     "name": "stdout",
     "output_type": "stream",
     "text": [
      "CPU times: user 357 ms, sys: 61.8 ms, total: 418 ms\n",
      "Wall time: 1min 11s\n"
     ]
    }
   ],
   "source": [
    "%%time\n",
    "fldr = fldrs[3]\n",
    "files = [os.path.join(fldr, x) for x in os.listdir(fldr)]\n",
    "out = parallelize(funPARQ, files, ncpu)\n",
    "out = pd.DataFrame(out, columns=[\"key\",\"values\"])\n",
    "out[\"key\"] =  out[\"key\"].astype(str)\n",
    "out = out.sort_values(\"key\").set_index(\"key\")"
   ]
  },
  {
   "cell_type": "markdown",
   "metadata": {},
   "source": [
    "# Pandas"
   ]
  },
  {
   "cell_type": "code",
   "execution_count": 1,
   "metadata": {},
   "outputs": [],
   "source": [
    "import pandas as pd\n",
    "import numpy as np"
   ]
  },
  {
   "cell_type": "markdown",
   "metadata": {},
   "source": [
    "## 10M"
   ]
  },
  {
   "cell_type": "code",
   "execution_count": 2,
   "metadata": {},
   "outputs": [],
   "source": [
    "df = pd.read_csv(\"data/file10SRTD.csv\")"
   ]
  },
  {
   "cell_type": "code",
   "execution_count": 3,
   "metadata": {},
   "outputs": [
    {
     "name": "stdout",
     "output_type": "stream",
     "text": [
      "CPU times: user 579 ms, sys: 127 ms, total: 707 ms\n",
      "Wall time: 746 ms\n"
     ]
    }
   ],
   "source": [
    "%%time\n",
    "out = df.groupby(\"key\")[\"values\"].mean()"
   ]
  },
  {
   "cell_type": "code",
   "execution_count": 6,
   "metadata": {},
   "outputs": [],
   "source": [
    "df = pd.read_csv(\"data/file10SHFFL.csv\")"
   ]
  },
  {
   "cell_type": "code",
   "execution_count": 7,
   "metadata": {},
   "outputs": [
    {
     "name": "stdout",
     "output_type": "stream",
     "text": [
      "CPU times: user 913 ms, sys: 43.8 ms, total: 957 ms\n",
      "Wall time: 956 ms\n"
     ]
    }
   ],
   "source": [
    "%%time\n",
    "out = df.groupby(\"key\")[\"values\"].mean()"
   ]
  },
  {
   "cell_type": "markdown",
   "metadata": {},
   "source": [
    "# Dask"
   ]
  },
  {
   "cell_type": "code",
   "execution_count": 1,
   "metadata": {},
   "outputs": [],
   "source": [
    "import pandas as pd\n",
    "import dask.dataframe as dd\n",
    "from dask.distributed import Client, LocalCluster"
   ]
  },
  {
   "cell_type": "code",
   "execution_count": 5,
   "metadata": {},
   "outputs": [
    {
     "data": {
      "text/html": [
       "<table style=\"border: 2px solid white;\">\n",
       "<tr>\n",
       "<td style=\"vertical-align: top; border: 0px solid white\">\n",
       "<h3>Client</h3>\n",
       "<ul>\n",
       "  <li><b>Scheduler: </b>tcp://127.0.0.1:34603\n",
       "  <li><b>Dashboard: </b><a href='http://127.0.0.1:8787/status' target='_blank'>http://127.0.0.1:8787/status</a>\n",
       "</ul>\n",
       "</td>\n",
       "<td style=\"vertical-align: top; border: 0px solid white\">\n",
       "<h3>Cluster</h3>\n",
       "<ul>\n",
       "  <li><b>Workers: </b>4</li>\n",
       "  <li><b>Cores: </b>4</li>\n",
       "  <li><b>Memory: </b>16.52 GB</li>\n",
       "</ul>\n",
       "</td>\n",
       "</tr>\n",
       "</table>"
      ],
      "text/plain": [
       "<Client: scheduler='tcp://127.0.0.1:34603' processes=4 cores=4>"
      ]
     },
     "execution_count": 5,
     "metadata": {},
     "output_type": "execute_result"
    }
   ],
   "source": [
    "cluster = LocalCluster()\n",
    "client = Client(cluster)\n",
    "client"
   ]
  },
  {
   "cell_type": "code",
   "execution_count": 2,
   "metadata": {},
   "outputs": [],
   "source": [
    "fldrs = [\"data/csv/atmc10\", \"data/parq/atmc10\",\n",
    "            \"data/csv/atmc50\", \"data/parq/atmc50\"]"
   ]
  },
  {
   "cell_type": "code",
   "execution_count": null,
   "metadata": {},
   "outputs": [],
   "source": []
  }
 ],
 "metadata": {
  "kernelspec": {
   "display_name": "talkCRDB",
   "language": "python",
   "name": "talk_crdb"
  },
  "language_info": {
   "codemirror_mode": {
    "name": "ipython",
    "version": 3
   },
   "file_extension": ".py",
   "mimetype": "text/x-python",
   "name": "python",
   "nbconvert_exporter": "python",
   "pygments_lexer": "ipython3",
   "version": "3.6.5"
  }
 },
 "nbformat": 4,
 "nbformat_minor": 2
}
